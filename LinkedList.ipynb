{
 "cells": [
  {
   "cell_type": "code",
   "execution_count": 1,
   "id": "7babf1ad",
   "metadata": {},
   "outputs": [],
   "source": [
    "%load_ext autoreload\n",
    "from harrypotter import *"
   ]
  },
  {
   "cell_type": "code",
   "execution_count": 2,
   "id": "6ef12572",
   "metadata": {},
   "outputs": [],
   "source": [
    "class Node:\n",
    "    def __init__(self, obj):\n",
    "        self.obj = obj\n",
    "        self.next = None\n",
    "\n",
    "class LinkedList:\n",
    "    def __init__(self):\n",
    "        self.head = None\n",
    "    \n",
    "    def add(self, obj):\n",
    "        # Make a new container for this object\n",
    "        new_node = Node(obj)\n",
    "        # This new node points to what is currently the head\n",
    "        new_node.next = self.head\n",
    "        # The head now points to the new node\n",
    "        self.head = new_node\n",
    "    \n",
    "    def remove(self, obj):\n",
    "        ## See if you can do this!\n",
    "        pass\n",
    "    \n",
    "    def find(self, obj):\n",
    "        \"\"\"\n",
    "        Return True if obj is there, False otherwise\n",
    "        \"\"\"\n",
    "        node = self.head\n",
    "        found = False\n",
    "        # Note that \"while node\" is True as long as \n",
    "        # node is not None\n",
    "        while node and not found:\n",
    "            # Note that we had to implement __eq__ for wizards\n",
    "            # in order for this to make sense\n",
    "            if node.obj == obj: \n",
    "                found = True\n",
    "            else:\n",
    "                # Keep chasing arrows until we get to the end and\n",
    "                # there's nothing left\n",
    "                node = node.next\n",
    "        return found\n",
    "    \n",
    "    def __str__(self):\n",
    "        \"\"\"\n",
    "        Like java's toString()\n",
    "        \"\"\"\n",
    "        node = self.head\n",
    "        s = \"\"\n",
    "        while node:\n",
    "            s += str(node.obj) + \" ===> \"\n",
    "            node = node.next\n",
    "        return s"
   ]
  },
  {
   "cell_type": "code",
   "execution_count": 3,
   "id": "72b55c53",
   "metadata": {},
   "outputs": [
    {
     "name": "stdout",
     "output_type": "stream",
     "text": [
      "Hermione Granger: 4/15/1990 in list:  True\n",
      "Barack Obama: 8/4/1961 in list:  False\n"
     ]
    }
   ],
   "source": [
    "llist = LinkedList()\n",
    "wizards = get_all_wizards()\n",
    "for w in wizards:\n",
    "    llist.add(w)\n",
    "hermione = Wizard(\"Hermione Granger\", 4, 15, 1990)\n",
    "barack = Wizard(\"Barack Obama\", 8, 4, 1961)\n",
    "print(hermione, \"in list: \", llist.find(hermione))\n",
    "print(barack, \"in list: \", llist.find(barack))"
   ]
  },
  {
   "cell_type": "code",
   "execution_count": 4,
   "id": "33880bd5",
   "metadata": {},
   "outputs": [
    {
     "name": "stdout",
     "output_type": "stream",
     "text": [
      "Flilus Flitwick: 2/3/1950 ===> Cornelius Fudge: 10/29/1940 ===> Rita Skeeter: 3/3/1958 ===> Vincent Crabbe: 7/21/1989 ===> Cedric Diggory: 5/13/1987 ===> Peter Pettigrew: 2/27/1963 ===> Sirius Black: 3/21/1962 ===> Rubeus Hagrid: 3/30/1942 ===> James Potter: 3/27/1963 ===> Lily Potter: 5/19/1963 ===> Sybil Trelawney: 4/15/1959 ===> Argus Filch: 4/17/1942 ===> Percy Weasley: 11/8/1984 ===> George Weasley: 2/25/1986 ===> Fred Weasley: 2/25/1986 ===> Arthur Weasley: 8/22/1960 ===> Molly Weasley: 2/22/1960 ===> Remus Lupin: 5/20/1963 ===> Kingsley Shacklebolt: 10/20/1950 ===> Pomona Sprout: 5/18/1950 ===> Blaise Zabini: 8/2/1989 ===> Gregory Goyle: 9/9/1989 ===> Pansy Parkinson: 10/6/1989 ===> Minerva McGonagall: 12/28/1945 ===> Ginny Weasley: 2/17/1991 ===> Cho Chang: 8/8/1988 ===> Dean Thomas: 12/2/1988 ===> Katie Bell: 2/28/1989 ===> Paravi Patil: 2/12/1989 ===> Padma Patil: 2/12/1989 ===> Lavender Brown: 4/2/1990 ===> Seamus Finnigan: 12/28/1988 ===> Neville Longbottom: 6/27/1989 ===> Draco Malfoy: 9/22/1989 ===> Lucius Malfoy: 6/6/1962 ===> Bellatrix Lestrange: 5/26/1962 ===> Olivander: 1/22/1930 ===> Fleur Delacour: 10/30/1982 ===> Bill Weasley: 5/12/1983 ===> Albus Dumbledore: 10/10/1922 ===> Tom Riddle: 12/22/1942 ===> Luna Lovegood: 8/16/1991 ===> Ron Weasley: 8/24/1988 ===> Severus Snape: 2/21/1963 ===> Harry Potter: 7/23/1989 ===> Hermione Granger: 4/15/1990 ===> \n"
     ]
    }
   ],
   "source": [
    "print(llist)"
   ]
  },
  {
   "cell_type": "code",
   "execution_count": null,
   "id": "1dded8ee",
   "metadata": {},
   "outputs": [],
   "source": []
  }
 ],
 "metadata": {
  "kernelspec": {
   "display_name": "Python 3 (ipykernel)",
   "language": "python",
   "name": "python3"
  },
  "language_info": {
   "codemirror_mode": {
    "name": "ipython",
    "version": 3
   },
   "file_extension": ".py",
   "mimetype": "text/x-python",
   "name": "python",
   "nbconvert_exporter": "python",
   "pygments_lexer": "ipython3",
   "version": "3.9.7"
  }
 },
 "nbformat": 4,
 "nbformat_minor": 5
}
